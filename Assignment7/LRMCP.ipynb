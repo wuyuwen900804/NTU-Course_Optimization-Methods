{
 "cells": [
  {
   "cell_type": "code",
   "execution_count": 1,
   "metadata": {},
   "outputs": [],
   "source": [
    "import numpy as np\n",
    "import gurobipy as gp"
   ]
  },
  {
   "cell_type": "code",
   "execution_count": 2,
   "metadata": {},
   "outputs": [],
   "source": [
    "with open('2010_ga_data.grt', 'r') as file:\n",
    "    lines = file.readlines()\n",
    "data = []\n",
    "for line in lines:\n",
    "    fields = line.split()\n",
    "    if len(fields) != 0:\n",
    "        data.append(fields)\n",
    "data_demand = []\n",
    "for i in range(len(data)):\n",
    "    data_demand.append(int(data[i][4]))\n",
    "with open('2010_ga_data_distance.grd', 'r') as file:\n",
    "    lines = file.readlines()\n",
    "data_dist = [int(line.strip()) for line in lines]"
   ]
  },
  {
   "cell_type": "code",
   "execution_count": 3,
   "metadata": {},
   "outputs": [],
   "source": [
    "# Calculate the total coverage of the stations in the list\n",
    "def SumCover(selected):\n",
    "    copy_data_demand = data_demand.copy()\n",
    "    total_num = len(data_demand)\n",
    "    cover_demand_final = 0\n",
    "    for i in selected:\n",
    "        cover_demand = 0\n",
    "        for k in range(total_num*i, total_num*(i+1)):\n",
    "            if (data_dist[k] <= 25):\n",
    "                cover_demand += copy_data_demand[k%159]\n",
    "        cover_demand_final += cover_demand\n",
    "        for k in range(total_num*i, total_num*(i+1)):\n",
    "            if (data_dist[k] <= 25):\n",
    "                copy_data_demand[k%159] = 0\n",
    "    return cover_demand_final"
   ]
  },
  {
   "cell_type": "code",
   "execution_count": 4,
   "metadata": {},
   "outputs": [],
   "source": [
    "select_num, total_num = 15, len(data_demand)\n",
    "sites = [i for i in range(total_num)] # candidate locations\n",
    "nodes = sites # demand nodes\n",
    "canCover = [[0 for _ in range(159)] for _ in range(159)]\n",
    "for i in sites:\n",
    "    for j in range(total_num*i, total_num*(i+1)):\n",
    "        if (data_dist[j] <= 25):\n",
    "            canCover[i][j-total_num*i] = 1"
   ]
  },
  {
   "cell_type": "code",
   "execution_count": 5,
   "metadata": {},
   "outputs": [],
   "source": [
    "no_improve = 0 # To change the alpha value\n",
    "alpha, Lambda, BUB, BLB = 2, [0]*159, np.inf, -np.inf # initial parameter"
   ]
  },
  {
   "cell_type": "code",
   "execution_count": 6,
   "metadata": {},
   "outputs": [
    {
     "name": "stdout",
     "output_type": "stream",
     "text": [
      "Set parameter Username\n",
      "Academic license - for non-commercial use only - expires 2024-10-05\n",
      "Total Cover: 8600752\n",
      "Select: [2, 7, 10, 14, 20, 21, 22, 30, 36, 58, 68, 71, 103, 120, 134]\n"
     ]
    }
   ],
   "source": [
    "while True:\n",
    "    # MCP model\n",
    "    MCP = gp.Model(\"MCP\")\n",
    "    # Vars\n",
    "    isCover = MCP.addVars(nodes, vtype='B', name=f'isCover') # Z\n",
    "    isSelect = MCP.addVars(sites, vtype='B', name=f'isSelect') # X\n",
    "    # Obj.\n",
    "    MCP.setObjective(\n",
    "        gp.quicksum(data_demand[i] * isCover[i] for i in nodes) +\n",
    "        gp.quicksum(Lambda[i] * (gp.quicksum(canCover[i][j]*isSelect[j] for j in sites) - isCover[i]) for i in nodes),\n",
    "        gp.GRB.MAXIMIZE\n",
    "    )\n",
    "    # s.t.\n",
    "    MCP.addConstr(gp.quicksum(isSelect[j] for j in sites) <= select_num)\n",
    "    # Solve\n",
    "    MCP.setParam('OutputFlag', 0)\n",
    "    MCP.optimize()\n",
    "\n",
    "    # Record result\n",
    "    Z, X = [], []\n",
    "    if MCP.status == gp.GRB.OPTIMAL:\n",
    "        for v in MCP.getVars():\n",
    "            if v.varName.startswith(\"isCover\"):\n",
    "                Z.append(int(v.x))\n",
    "            else:\n",
    "                X.append(int(v.x))\n",
    "    else:\n",
    "        print(\"No solution found.\")\n",
    "    covered, selected = [], []\n",
    "    for i in range(total_num):\n",
    "        if Z[i] == 1:\n",
    "            covered.append(i)\n",
    "        if X[i] == 1:\n",
    "            selected.append(i)\n",
    "    \n",
    "    # Update UB & LB\n",
    "    LBUB = BUB\n",
    "    CUB = MCP.objVal\n",
    "    BUB = min(BUB, CUB)\n",
    "    BLB = max(BLB, SumCover(selected))\n",
    "\n",
    "    # Check if the alpha value needs to be changed\n",
    "    if BUB == LBUB:\n",
    "        no_improve += 1\n",
    "        if no_improve == 20:\n",
    "            no_improve = 0\n",
    "            alpha /= 2\n",
    "    \n",
    "    # Check if termination is needed\n",
    "    if (BLB != 0) and ((BUB-BLB)/BLB < 0.01):\n",
    "        break\n",
    "    \n",
    "    # Update Lambda value\n",
    "    numerator = alpha * (CUB-BLB)\n",
    "    denominator = sum((sum(canCover[i][j] * X[j] for j in sites) - Z[i]) ** 2 for i in nodes)\n",
    "    step_size = numerator / denominator\n",
    "    for i in nodes:\n",
    "        Lambda[i] = max(0, Lambda[i] - step_size*(sum(canCover[i][j] * X[j] for j in sites) - Z[i]))\n",
    "\n",
    "# Final result\n",
    "print('Total Cover:', BLB)\n",
    "print('Select:', selected)"
   ]
  }
 ],
 "metadata": {
  "kernelspec": {
   "display_name": "Python 3",
   "language": "python",
   "name": "python3"
  },
  "language_info": {
   "codemirror_mode": {
    "name": "ipython",
    "version": 3
   },
   "file_extension": ".py",
   "mimetype": "text/x-python",
   "name": "python",
   "nbconvert_exporter": "python",
   "pygments_lexer": "ipython3",
   "version": "3.11.4"
  }
 },
 "nbformat": 4,
 "nbformat_minor": 2
}
