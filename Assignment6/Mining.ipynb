{
 "cells": [
  {
   "cell_type": "code",
   "execution_count": 1,
   "id": "2b19a7e0-3da6-4c26-ae41-31c481734de3",
   "metadata": {},
   "outputs": [],
   "source": [
    "import gurobipy as gp"
   ]
  },
  {
   "cell_type": "code",
   "execution_count": 2,
   "metadata": {},
   "outputs": [],
   "source": [
    "# Sets & Parameters\n",
    "years = 5\n",
    "MINE = ['M1', 'M2', 'M3', 'M4']\n",
    "royalty  = {'M1': 5, 'M2': 4, 'M3': 4, 'M4': 5}\n",
    "limit    = {'M1': 2.0, 'M2': 2.5, 'M3': 1.3, 'M4': 3.0}\n",
    "mquality = {'M1': 1.0, 'M2': 0.7, 'M3': 1.5, 'M4': 0.5}\n",
    "yquality = {1: 0.9, 2: 0.8, 3: 1.2, 4: 0.6, 5: 1.0}"
   ]
  },
  {
   "cell_type": "code",
   "execution_count": 3,
   "metadata": {},
   "outputs": [
    {
     "name": "stdout",
     "output_type": "stream",
     "text": [
      "Set parameter Username\n",
      "Academic license - for non-commercial use only - expires 2024-10-05\n",
      "Net profit: 146.86 million\n"
     ]
    }
   ],
   "source": [
    "mining = gp.Model(\"mining\")\n",
    "# Vars\n",
    "output = mining.addVars(MINE, range(1, years+1), vtype='C', name='output')\n",
    "total = mining.addVars(range(1, years+1), vtype='C', name='total')\n",
    "isOperate = mining.addVars(MINE, range(1, years+1), vtype='B', name=\"isOperate\")\n",
    "isOpen = mining.addVars(MINE, range(1, years+1), vtype='B', name=\"isOpen\")\n",
    "mining.update()\n",
    "# Obj.\n",
    "mining.setObjective(\n",
    "    gp.quicksum((total[y] * 10) / (1.1 ** (y-1)) for y in range(1, years+1)) -\n",
    "    gp.quicksum((isOpen[m, y] * royalty[m]) / (1.1 ** (y-1)) for m in MINE for y in range(1, years+1)),\n",
    "    gp.GRB.MAXIMIZE\n",
    ")\n",
    "# s.t.\n",
    "for m in MINE:\n",
    "    for y in range(1, years+1):\n",
    "        mining.addConstr(output[m, y] <= isOperate[m, y] * limit[m], f\"upperLimit_{m}_{y}\")\n",
    "        mining.addConstr((years+1-y)*isOpen[m, y] >= gp.quicksum(isOperate[m, i] for i in range(y, years+1)), f\"needOpen_{m}_{y}\")\n",
    "for y in range(1, years+1):\n",
    "    mining.addConstr(gp.quicksum(isOperate[m, y] for m in MINE) <= 3, f\"lessThanThree_{y}\")\n",
    "    mining.addConstr(gp.quicksum(output[m, y] for m in MINE) == total[y], f\"sumOutput_{y}\")\n",
    "    mining.addConstr(gp.quicksum(output[m,y] * mquality[m] for m in MINE) == total[y] * yquality[y], f\"mixQuality_{y}\")\n",
    "\n",
    "# Solve\n",
    "mining.setParam('OutputFlag', 0)\n",
    "mining.optimize()\n",
    "# Result\n",
    "if mining.status == gp.GRB.OPTIMAL:\n",
    "    # for v in mining.getVars():\n",
    "    #     print(f\"{v.varName}: {round(v.x, 3)}\")\n",
    "    print(f\"Net profit: {round(mining.objVal, 2)} million\")\n",
    "else:\n",
    "    print(\"No solution found.\")"
   ]
  }
 ],
 "metadata": {
  "kernelspec": {
   "display_name": "Python 3 (ipykernel)",
   "language": "python",
   "name": "python3"
  },
  "language_info": {
   "codemirror_mode": {
    "name": "ipython",
    "version": 3
   },
   "file_extension": ".py",
   "mimetype": "text/x-python",
   "name": "python",
   "nbconvert_exporter": "python",
   "pygments_lexer": "ipython3",
   "version": "3.11.4"
  }
 },
 "nbformat": 4,
 "nbformat_minor": 5
}
