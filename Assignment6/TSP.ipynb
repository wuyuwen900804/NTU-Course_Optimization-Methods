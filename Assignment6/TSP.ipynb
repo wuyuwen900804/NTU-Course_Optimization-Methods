{
 "cells": [
  {
   "cell_type": "code",
   "execution_count": 1,
   "metadata": {},
   "outputs": [],
   "source": [
    "import numpy as np\n",
    "import gurobipy as gp\n",
    "from edge_list import *"
   ]
  },
  {
   "cell_type": "code",
   "execution_count": 2,
   "metadata": {},
   "outputs": [],
   "source": [
    "cities = list(range(42))\n",
    "num_cities = len(cities)\n",
    "distance_matrix = np.zeros((num_cities, num_cities))\n",
    "for edge in edge_list:\n",
    "    start_node, end_node, weight = edge\n",
    "    distance_matrix[start_node][end_node] = weight\n",
    "    distance_matrix[end_node][start_node] = weight"
   ]
  },
  {
   "cell_type": "code",
   "execution_count": 3,
   "metadata": {},
   "outputs": [],
   "source": [
    "def ConcatList(o_list, i, j):\n",
    "    p1_pos = 0\n",
    "    p2_pos = 0\n",
    "    for index, sublist in enumerate(o_list):\n",
    "        if i in sublist:\n",
    "            p1_pos = index\n",
    "        if j in sublist:\n",
    "            p2_pos = index\n",
    "    if (p1_pos != p2_pos):\n",
    "        for p in o_list[p2_pos]:\n",
    "            o_list[p1_pos].append(p)\n",
    "        del o_list[p2_pos]\n",
    "    return o_list"
   ]
  },
  {
   "cell_type": "code",
   "execution_count": 4,
   "metadata": {},
   "outputs": [
    {
     "name": "stdout",
     "output_type": "stream",
     "text": [
      "Set parameter Username\n",
      "Academic license - for non-commercial use only - expires 2024-10-05\n",
      "Final Cost: 699.0\n",
      "arc[0,41]: 1.0\n",
      "arc[1,0]: 1.0\n",
      "arc[2,1]: 1.0\n",
      "arc[3,2]: 1.0\n",
      "arc[4,3]: 1.0\n",
      "arc[5,4]: 1.0\n",
      "arc[6,5]: 1.0\n",
      "arc[7,6]: 1.0\n",
      "arc[8,7]: 1.0\n",
      "arc[9,8]: 1.0\n",
      "arc[10,9]: 1.0\n",
      "arc[11,10]: 1.0\n",
      "arc[12,11]: 1.0\n",
      "arc[13,12]: 1.0\n",
      "arc[14,13]: 1.0\n",
      "arc[15,14]: 1.0\n",
      "arc[16,15]: 1.0\n",
      "arc[17,16]: 1.0\n",
      "arc[18,17]: 1.0\n",
      "arc[19,18]: 1.0\n",
      "arc[20,19]: 1.0\n",
      "arc[21,20]: 1.0\n",
      "arc[22,21]: 1.0\n",
      "arc[23,22]: 1.0\n",
      "arc[24,23]: 1.0\n",
      "arc[25,24]: 1.0\n",
      "arc[26,25]: 1.0\n",
      "arc[27,26]: 1.0\n",
      "arc[28,27]: 1.0\n",
      "arc[29,28]: 1.0\n",
      "arc[30,29]: 1.0\n",
      "arc[31,30]: 1.0\n",
      "arc[32,31]: 1.0\n",
      "arc[33,32]: 1.0\n",
      "arc[34,33]: 1.0\n",
      "arc[35,34]: 1.0\n",
      "arc[36,35]: 1.0\n",
      "arc[37,36]: 1.0\n",
      "arc[38,37]: 1.0\n",
      "arc[39,38]: 1.0\n",
      "arc[40,39]: 1.0\n",
      "arc[41,40]: 1.0\n"
     ]
    }
   ],
   "source": [
    "# TSP Model\n",
    "TSP = gp.Model(\"TSP\")\n",
    "# Vars\n",
    "arcs = TSP.addVars(cities, cities, vtype='B', name=f'arc')\n",
    "TSP.update()\n",
    "# Obj.\n",
    "TSP.setObjective(\n",
    "    gp.quicksum(arcs[i, j] * distance_matrix[i][j] for i in cities for j in cities),\n",
    "    gp.GRB.MINIMIZE\n",
    ")\n",
    "# s.t.\n",
    "for i in cities:\n",
    "    TSP.addConstr(gp.quicksum(arcs[i, i] for i in cities) == 0)\n",
    "    TSP.addConstr(gp.quicksum(arcs[i, j] for j in cities) == 1, f'incom_{i}')\n",
    "    TSP.addConstr(gp.quicksum(arcs[j, i] for j in cities) == 1, f'outgo_{i}')\n",
    "\n",
    "check_list = []\n",
    "# When the sub-loop exists\n",
    "while (len(check_list) != 1):\n",
    "    # Automatically add constraints\n",
    "    for sublist in check_list:\n",
    "        TSP.addConstr(gp.quicksum(arcs[i, j] for i in sublist for j in sublist if i != j) <= len(sublist)-1)\n",
    "    TSP.setParam('OutputFlag', 0)\n",
    "    TSP.optimize()\n",
    "    # Check sub-loop\n",
    "    check_list = [[i] for i in range(42)]\n",
    "    if TSP.status == gp.GRB.OPTIMAL:\n",
    "        for v in TSP.getVars():\n",
    "            if (v.x!=0):\n",
    "                i, j = map(int, v.varName[4:-1].split(\",\"))\n",
    "                check_list = ConcatList(check_list, i, j)\n",
    "        objValue = TSP.objVal\n",
    "    else:\n",
    "        print(\"No solution found.\")\n",
    "print(\"Final Cost:\", objValue)\n",
    "for v in TSP.getVars():\n",
    "    if (v.x!=0):\n",
    "        print(f\"{v.varName}: {v.x}\")"
   ]
  }
 ],
 "metadata": {
  "kernelspec": {
   "display_name": "base",
   "language": "python",
   "name": "python3"
  },
  "language_info": {
   "codemirror_mode": {
    "name": "ipython",
    "version": 3
   },
   "file_extension": ".py",
   "mimetype": "text/x-python",
   "name": "python",
   "nbconvert_exporter": "python",
   "pygments_lexer": "ipython3",
   "version": "3.11.4"
  }
 },
 "nbformat": 4,
 "nbformat_minor": 2
}
