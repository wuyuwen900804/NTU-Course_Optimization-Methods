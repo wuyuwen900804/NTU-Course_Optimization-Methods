{
 "cells": [
  {
   "cell_type": "code",
   "execution_count": null,
   "metadata": {},
   "outputs": [],
   "source": [
    "# Depot, Running, Refuel, Delay = FIFOQueue()\n",
    "# FuelDispenser = Resource()\n",
    "# DelayTime, DispatchedNum = DTStat()"
   ]
  },
  {
   "cell_type": "code",
   "execution_count": null,
   "metadata": {},
   "outputs": [],
   "source": [
    "# def Dispatch():\n",
    "    # if Depot 內的 Bus 數為 0:\n",
    "        # 新增一個計時器，並將計時器放入 Delay 隊列 (FIFOQueue)\n",
    "    # else:\n",
    "        # Delay Time 紀錄為 0\n",
    "        # 將 Bus 從 Depot (FIFOQueue) 移動到 Running (FIFOQueue)\n",
    "        # 規劃 Return 的時間\n",
    "        # 已出發班次 + 1\n",
    "        # if 已出發班次 == 應出發班次 (N):\n",
    "            # \"EndSimulation\"\n",
    "    # 規劃下一個 Dispatch 的時間"
   ]
  },
  {
   "cell_type": "code",
   "execution_count": null,
   "metadata": {},
   "outputs": [],
   "source": [
    "# def Return():\n",
    "    # 將 Bus 從 Running (FIFOQueue) 移動到 Refuel (FIFOQueue)\n",
    "    # if Fuel Dispenser 空閒:\n",
    "        # Fuel Dispenser 標記為忙碌\n",
    "        # 規劃 Refueled 的時間"
   ]
  },
  {
   "cell_type": "code",
   "execution_count": null,
   "metadata": {},
   "outputs": [],
   "source": [
    "# def Refueled():\n",
    "\n",
    "    # 將 Bus 移出 Refuel (FIFOQueue)\n",
    "\n",
    "    # if Delay 隊列 (FIFOQueue) > 0:\n",
    "        # 移出計時器，並記錄 Delay Time\n",
    "        # 將 Bus 移入 Running (FIFOQueue)\n",
    "        # 規劃 Return 的時間\n",
    "        # 已出發班次 + 1\n",
    "        # if 已出發班次 == 應出發班次 (N):\n",
    "            # \"EndSimulation\"\n",
    "    # else:\n",
    "        # 將 Bus 移入 Dispatch (FIFOQueue)\n",
    "\n",
    "    # if Refuel (FIFOQueue) > 0:\n",
    "        # 規劃下一台車 Refueled 的時間\n",
    "    # else:\n",
    "        # Fuel Dispenser 標記為空閒"
   ]
  },
  {
   "cell_type": "code",
   "execution_count": null,
   "metadata": {},
   "outputs": [],
   "source": [
    "# for reps in range(runs):\n",
    "    # 開始計時 & 初始化參數\n",
    "    # 規劃第一個 Dispatch 的時間\n",
    "    # 建立 F 個 Bus Entity，然後放入 Depot (FIFOQueue)\n",
    "    # while True:\n",
    "    #     NextEvent = getNextEvent(Calendar)\n",
    "    #     Clock = NextEvent.EventTime\n",
    "    #     if NextEvent.EventType == \"Dispatch\":\n",
    "    #         Dispatch()\n",
    "    #     elif NextEvent.EventType == \"Return\":\n",
    "    #         Return()\n",
    "    #     elif NextEvent.EventType == \"Refueled\":\n",
    "    #         Refueled()\n",
    "    #     elif NextEvent.EventType == \"EndSimulation\":\n",
    "    #         break"
   ]
  }
 ],
 "metadata": {
  "language_info": {
   "name": "python"
  }
 },
 "nbformat": 4,
 "nbformat_minor": 2
}
