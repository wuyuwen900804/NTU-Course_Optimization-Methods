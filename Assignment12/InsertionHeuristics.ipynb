{
 "cells": [
  {
   "cell_type": "code",
   "execution_count": 1,
   "metadata": {},
   "outputs": [],
   "source": [
    "import numpy as np\n",
    "import pandas as pd"
   ]
  },
  {
   "cell_type": "code",
   "execution_count": 2,
   "metadata": {},
   "outputs": [
    {
     "name": "stdout",
     "output_type": "stream",
     "text": [
      "     CUSTNO  XCOORD  YCOORD  DEMAND  READYTIME  DUEDATE  SERVICETIME\n",
      "0         0      35      35       0          0      230            0\n",
      "1         1      41      49      10        161      171           10\n",
      "2         2      35      17       7         50       60           10\n",
      "3         3      55      45      13        116      126           10\n",
      "4         4      55      20      19        149      159           10\n",
      "..      ...     ...     ...     ...        ...      ...          ...\n",
      "97       97      25      21      12        133      143           10\n",
      "98       98      19      21      10         58       68           10\n",
      "99       99      20      26       9         83       93           10\n",
      "100     100      18      18      17        185      195           10\n",
      "101     101      35      35       0          0      230            0\n",
      "\n",
      "[102 rows x 7 columns]\n"
     ]
    }
   ],
   "source": [
    "data = pd.read_csv('./r101.csv')\n",
    "XCOORD, YCOORD = data['XCOORD'].iloc, data['YCOORD'].iloc\n",
    "READYTIME, DUEDATE = data['READYTIME'].iloc, data['DUEDATE'].iloc\n",
    "SERVICETIME = data['SERVICETIME'].iloc\n",
    "print(data)"
   ]
  },
  {
   "cell_type": "code",
   "execution_count": 3,
   "metadata": {},
   "outputs": [],
   "source": [
    "def Dist(i, j):\n",
    "    dist = np.sqrt((XCOORD[i]-XCOORD[j])**2 + (YCOORD[i]-YCOORD[j])**2)\n",
    "    dist = round(dist, 2)\n",
    "    return dist\n",
    "\n",
    "def TotalDist(route):\n",
    "    total_dist = 0\n",
    "    for point in range(len(route)-1):\n",
    "        i, j = route[point], route[point+1]\n",
    "        dist = Dist(i,j)\n",
    "        total_dist += dist\n",
    "    total_dist = round(total_dist, 2)\n",
    "    return total_dist\n",
    "\n",
    "def IsTimeReasonable(route):\n",
    "    reasonable = True\n",
    "    begin_j = 0\n",
    "    for point in range(len(route)-1):\n",
    "        begin_i = begin_j\n",
    "        i, j = route[point], route[point+1]\n",
    "        arrive_time = begin_i+SERVICETIME[i]+Dist(i,j)\n",
    "        if (arrive_time > DUEDATE[j]):\n",
    "            reasonable = False\n",
    "            break\n",
    "        begin_j = max(READYTIME[j], arrive_time)\n",
    "    return reasonable\n",
    "\n",
    "def LastBeginService(route):\n",
    "    begin_j = 0\n",
    "    for point in range(len(route)-1):\n",
    "        begin_i = begin_j\n",
    "        i, j = route[point], route[point+1]\n",
    "        arrive_time = begin_i+SERVICETIME[i]+Dist(i,j)\n",
    "        begin_j = max(READYTIME[j], arrive_time)\n",
    "    return begin_j"
   ]
  },
  {
   "cell_type": "code",
   "execution_count": 4,
   "metadata": {},
   "outputs": [
    {
     "name": "stdout",
     "output_type": "stream",
     "text": [
      "[[0, 59, 5, 83, 61, 85, 97, 91, 100, 101], [0, 92, 95, 98, 16, 86, 37, 13, 89, 58, 101], [0, 42, 2, 73, 22, 56, 74, 25, 101], [0, 14, 15, 87, 57, 43, 93, 101], [0, 45, 82, 88, 90, 10, 32, 70, 101], [0, 72, 12, 76, 79, 3, 68, 24, 80, 101], [0, 27, 69, 30, 51, 50, 1, 77, 101], [0, 63, 62, 11, 49, 17, 101], [0, 28, 21, 40, 53, 26, 4, 101], [0, 33, 29, 81, 34, 35, 101], [0, 39, 23, 67, 55, 101], [0, 36, 47, 19, 8, 46, 60, 101], [0, 31, 7, 20, 48, 101], [0, 52, 99, 94, 96, 101], [0, 65, 71, 9, 66, 101], [0, 75, 41, 54, 101], [0, 44, 38, 101], [0, 64, 101], [0, 18, 6, 101], [0, 78, 101], [0, 84, 101]]\n",
      "Num of Vehicle: 21, Distance: 2037.62\n"
     ]
    }
   ],
   "source": [
    "mu, alpha1, alpha2, lambda1 = 1, 0.1, 0.9, 1\n",
    "unselected = [i for i in range(1,101)]\n",
    "current = initial = []\n",
    "while (len(unselected) != 0):\n",
    "    # Establish a new route\n",
    "    current.append([0,101])\n",
    "    while True:\n",
    "        # Find the best u\n",
    "        adding = current[-1]\n",
    "        max_C2, best_u, best_adding = -np.inf, None, None\n",
    "        for u in unselected:\n",
    "            # Find the best insertion position for u\n",
    "            min_C1, best_insert = np.inf, None\n",
    "            for index in range(1, len(adding)):\n",
    "                new_adding = adding[:]\n",
    "                new_adding.insert(index, u)\n",
    "                # If the time window is not reasonable\n",
    "                if IsTimeReasonable(new_adding) == False:\n",
    "                    continue\n",
    "                i, j = index-1, index+1\n",
    "                # Compute C1\n",
    "                C1_1 = Dist(i,u) + Dist(u,j) - mu*Dist(i,j)\n",
    "                C1_2 = LastBeginService(new_adding[:j+1]) - LastBeginService(adding[:j])\n",
    "                C1 = alpha1*C1_1 + alpha2*C1_2\n",
    "                # Update the best insertion position for u\n",
    "                if C1 < min_C1:\n",
    "                    min_C1, best_insert = C1, new_adding[:]\n",
    "            # If there is no available insertion position\n",
    "            if best_insert == None:\n",
    "                continue\n",
    "            # Compute C2\n",
    "            C2 = lambda1*Dist(0,u) - min_C1\n",
    "            # Update the best u\n",
    "            if C2 > max_C2:\n",
    "                max_C2, best_u, best_adding = C2, u, best_insert[:]\n",
    "        # If there is no available u\n",
    "        if best_u == None:\n",
    "            break\n",
    "        # Update status of route\n",
    "        current[-1] = best_adding\n",
    "        unselected.remove(best_u)\n",
    "# Result\n",
    "final_status, final_dist = current, 0\n",
    "for route in final_status:\n",
    "    final_dist += TotalDist(route)\n",
    "print(final_status)\n",
    "print(f'Num of Vehicle: {len(final_status)}, Distance: {round(final_dist, 2)}')"
   ]
  }
 ],
 "metadata": {
  "kernelspec": {
   "display_name": "Python 3",
   "language": "python",
   "name": "python3"
  },
  "language_info": {
   "codemirror_mode": {
    "name": "ipython",
    "version": 3
   },
   "file_extension": ".py",
   "mimetype": "text/x-python",
   "name": "python",
   "nbconvert_exporter": "python",
   "pygments_lexer": "ipython3",
   "version": "3.11.4"
  }
 },
 "nbformat": 4,
 "nbformat_minor": 2
}
