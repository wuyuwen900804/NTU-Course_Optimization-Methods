{
 "cells": [
  {
   "cell_type": "code",
   "execution_count": 1,
   "metadata": {},
   "outputs": [],
   "source": [
    "import numpy as np\n",
    "import pandas as pd"
   ]
  },
  {
   "cell_type": "code",
   "execution_count": 2,
   "metadata": {},
   "outputs": [
    {
     "name": "stdout",
     "output_type": "stream",
     "text": [
      "     CUSTNO  XCOORD  YCOORD  DEMAND  READYTIME  DUEDATE  SERVICETIME\n",
      "0         0      35      35       0          0      230            0\n",
      "1         1      41      49      10        161      171           10\n",
      "2         2      35      17       7         50       60           10\n",
      "3         3      55      45      13        116      126           10\n",
      "4         4      55      20      19        149      159           10\n",
      "..      ...     ...     ...     ...        ...      ...          ...\n",
      "97       97      25      21      12        133      143           10\n",
      "98       98      19      21      10         58       68           10\n",
      "99       99      20      26       9         83       93           10\n",
      "100     100      18      18      17        185      195           10\n",
      "101     101      35      35       0          0      230            0\n",
      "\n",
      "[102 rows x 7 columns]\n"
     ]
    }
   ],
   "source": [
    "data = pd.read_csv('./r101.csv')\n",
    "XCOORD, YCOORD = data['XCOORD'].iloc, data['YCOORD'].iloc\n",
    "READYTIME, DUEDATE = data['READYTIME'].iloc, data['DUEDATE'].iloc\n",
    "SERVICETIME = data['SERVICETIME'].iloc\n",
    "print(data)"
   ]
  },
  {
   "cell_type": "code",
   "execution_count": 3,
   "metadata": {},
   "outputs": [],
   "source": [
    "def Connect(former, latter):\n",
    "    connected = former[:-1] + latter[1:]\n",
    "    return connected\n",
    "\n",
    "def Dist(i, j):\n",
    "    dist = np.sqrt((XCOORD[i]-XCOORD[j])**2 + (YCOORD[i]-YCOORD[j])**2)\n",
    "    dist = round(dist, 2)\n",
    "    return dist\n",
    "\n",
    "def TotalDist(route):\n",
    "    total_dist = 0\n",
    "    for point in range(len(route)-1):\n",
    "        i, j = route[point], route[point+1]\n",
    "        dist = Dist(i,j)\n",
    "        total_dist += dist\n",
    "    total_dist = round(total_dist, 2)\n",
    "    return total_dist\n",
    "\n",
    "def LastEndService(route):\n",
    "    begin_j = 0\n",
    "    for point in range(len(route)-1):\n",
    "        begin_i = begin_j\n",
    "        i, j = route[point], route[point+1]\n",
    "        begin_j = max(READYTIME[j], begin_i+SERVICETIME[i]+Dist(i,j))\n",
    "    end_service = begin_i+SERVICETIME[route[-2]]\n",
    "    return end_service"
   ]
  },
  {
   "cell_type": "code",
   "execution_count": 4,
   "metadata": {},
   "outputs": [
    {
     "name": "stdout",
     "output_type": "stream",
     "text": [
      "Num of Vehicle: 22, Distance: 1863.56\n"
     ]
    }
   ],
   "source": [
    "current = initial = [[0, i, 101] for i in range(1, 101)]\n",
    "while True:\n",
    "    max_saving, max_wait = 0, 20\n",
    "    for r1 in current:\n",
    "        for r2 in current[current.index(r1)+1:]:\n",
    "            # Check former or latter\n",
    "            if (LastEndService(r1) + Dist(r1[-2], r2[1])) <= DUEDATE[r2[1]]:\n",
    "                froute, lroute = r1, r2\n",
    "            elif (LastEndService(r2) + Dist(r2[-2], r1[1])) <= DUEDATE[r1[1]]:\n",
    "                froute, lroute = r2, r1\n",
    "            else:\n",
    "                continue\n",
    "            # Waiting time threshold\n",
    "            arrive_next = LastEndService(froute) + Dist(froute[-2], lroute[1])\n",
    "            if READYTIME[lroute[1]] - arrive_next > max_wait:\n",
    "                continue\n",
    "            # Calculate saving\n",
    "            saving = round(TotalDist(r1) + TotalDist(r2) - TotalDist(Connect(froute, lroute)), 2)\n",
    "            # Record max_saving\n",
    "            if saving > max_saving:\n",
    "                max_saving = saving\n",
    "                max_froute = froute\n",
    "                max_lroute = lroute\n",
    "    # Termination condition\n",
    "    if max_saving == 0:\n",
    "        break\n",
    "    current = [sublist for sublist in current if (sublist != max_froute and sublist != max_lroute)]\n",
    "    current.append(Connect(max_froute, max_lroute))\n",
    "# Result\n",
    "final_status, final_dist = current, 0\n",
    "for route in final_status:\n",
    "    final_dist += TotalDist(route)\n",
    "print(f'Num of Vehicle: {len(final_status)}, Distance: {round(final_dist, 2)}')"
   ]
  }
 ],
 "metadata": {
  "kernelspec": {
   "display_name": "Python 3",
   "language": "python",
   "name": "python3"
  },
  "language_info": {
   "codemirror_mode": {
    "name": "ipython",
    "version": 3
   },
   "file_extension": ".py",
   "mimetype": "text/x-python",
   "name": "python",
   "nbconvert_exporter": "python",
   "pygments_lexer": "ipython3",
   "version": "3.11.4"
  }
 },
 "nbformat": 4,
 "nbformat_minor": 2
}
