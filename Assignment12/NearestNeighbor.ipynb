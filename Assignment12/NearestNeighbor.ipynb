{
 "cells": [
  {
   "cell_type": "code",
   "execution_count": 1,
   "metadata": {},
   "outputs": [],
   "source": [
    "import numpy as np\n",
    "import pandas as pd"
   ]
  },
  {
   "cell_type": "code",
   "execution_count": 2,
   "metadata": {},
   "outputs": [
    {
     "name": "stdout",
     "output_type": "stream",
     "text": [
      "     CUSTNO  XCOORD  YCOORD  DEMAND  READYTIME  DUEDATE  SERVICETIME\n",
      "0         0      35      35       0          0      230            0\n",
      "1         1      41      49      10        161      171           10\n",
      "2         2      35      17       7         50       60           10\n",
      "3         3      55      45      13        116      126           10\n",
      "4         4      55      20      19        149      159           10\n",
      "..      ...     ...     ...     ...        ...      ...          ...\n",
      "97       97      25      21      12        133      143           10\n",
      "98       98      19      21      10         58       68           10\n",
      "99       99      20      26       9         83       93           10\n",
      "100     100      18      18      17        185      195           10\n",
      "101     101      35      35       0          0      230            0\n",
      "\n",
      "[102 rows x 7 columns]\n"
     ]
    }
   ],
   "source": [
    "data = pd.read_csv('./r101.csv')\n",
    "XCOORD, YCOORD = data['XCOORD'].iloc, data['YCOORD'].iloc\n",
    "READYTIME, DUEDATE = data['READYTIME'].iloc, data['DUEDATE'].iloc\n",
    "SERVICETIME = data['SERVICETIME'].iloc\n",
    "print(data)"
   ]
  },
  {
   "cell_type": "code",
   "execution_count": 3,
   "metadata": {},
   "outputs": [],
   "source": [
    "def Dist(i, j):\n",
    "    dist = np.sqrt((XCOORD[i]-XCOORD[j])**2 + (YCOORD[i]-YCOORD[j])**2)\n",
    "    dist = round(dist, 2)\n",
    "    return dist\n",
    "\n",
    "def TotalDist(route):\n",
    "    total_dist = 0\n",
    "    for point in range(len(route)-1):\n",
    "        i, j = route[point], route[point+1]\n",
    "        dist = Dist(i,j)\n",
    "        total_dist += dist\n",
    "    total_dist = round(total_dist, 2)\n",
    "    return total_dist\n",
    "\n",
    "def LastBeginService(route):\n",
    "    begin_j = 0\n",
    "    if len(route)==1:\n",
    "        return 0\n",
    "    else:\n",
    "        for point in range(len(route)-1):\n",
    "            begin_i = begin_j\n",
    "            i, j = route[point], route[point+1]\n",
    "            begin_j = max(READYTIME[j], begin_i+SERVICETIME[i]+Dist(i,j))\n",
    "        return begin_j"
   ]
  },
  {
   "cell_type": "code",
   "execution_count": 4,
   "metadata": {},
   "outputs": [
    {
     "name": "stdout",
     "output_type": "stream",
     "text": [
      "Num of Vehicle: 21, Distance: 1887.9\n"
     ]
    }
   ],
   "source": [
    "unselected = [i for i in range(1,101)]\n",
    "current = initial = []\n",
    "while (len(unselected) != 0):\n",
    "    current.append([0])\n",
    "    while True:\n",
    "        adding = current[-1]\n",
    "        i = adding[-1]\n",
    "        min_C = np.inf\n",
    "        # Find next point\n",
    "        for j in unselected:\n",
    "            T = LastBeginService(adding + [j]) - (LastBeginService(adding) + SERVICETIME[i])\n",
    "            V = DUEDATE[j] - (LastBeginService(adding) + SERVICETIME[i] + Dist(i,j))\n",
    "            C = 0.6*Dist(i,j) + 0.2*T + 0.2*V\n",
    "            if (C > 0) and (C < min_C) and (V > 0):\n",
    "                min_C = C\n",
    "                add_j = j\n",
    "        # Update closest point\n",
    "        if min_C == np.inf:\n",
    "            adding.append(101)\n",
    "            break\n",
    "        adding.append(add_j)\n",
    "        unselected.remove(add_j)\n",
    "# Result\n",
    "final_status, final_dist = current, 0\n",
    "for route in final_status:\n",
    "    final_dist += TotalDist(route)\n",
    "print(f'Num of Vehicle: {len(final_status)}, Distance: {round(final_dist, 2)}')"
   ]
  }
 ],
 "metadata": {
  "kernelspec": {
   "display_name": "Python 3",
   "language": "python",
   "name": "python3"
  },
  "language_info": {
   "codemirror_mode": {
    "name": "ipython",
    "version": 3
   },
   "file_extension": ".py",
   "mimetype": "text/x-python",
   "name": "python",
   "nbconvert_exporter": "python",
   "pygments_lexer": "ipython3",
   "version": "3.11.4"
  }
 },
 "nbformat": 4,
 "nbformat_minor": 2
}
