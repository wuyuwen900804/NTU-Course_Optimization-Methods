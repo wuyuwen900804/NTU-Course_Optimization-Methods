{
 "cells": [
  {
   "cell_type": "code",
   "execution_count": 1,
   "metadata": {},
   "outputs": [],
   "source": [
    "import numpy as np\n",
    "import pandas as pd"
   ]
  },
  {
   "cell_type": "code",
   "execution_count": 2,
   "metadata": {},
   "outputs": [
    {
     "name": "stdout",
     "output_type": "stream",
     "text": [
      "    NODE  XCOORD  YCOORD  SERVICETIME  DEMAND  START  DEADLINE\n",
      "0      0  -1.044   2.000            0       0      0      1440\n",
      "1      1  -2.973   6.414           10       1      0      1440\n",
      "2      2  -3.066   0.546           10       1      0      1440\n",
      "3      3   5.164   0.547           10       1      0      1440\n",
      "4      4  -1.317   6.934           10       1      0      1440\n",
      "5      5  -6.741   6.832           10       1      0      1440\n",
      "6      6   4.891   0.627           10       1      0      1440\n",
      "7      7   0.524   2.226           10       1      0      1440\n",
      "8      8  -6.500   7.723           10       1      0      1440\n",
      "9      9  -0.417  -0.157           10       1      0      1440\n",
      "10    10   2.303   1.164           10       1      0      1440\n",
      "11    11   2.548   0.629           10       1      0      1440\n",
      "12    12  -4.261  -2.639           10       1      0      1440\n",
      "13    13  -7.667   9.934           10       1    325       358\n",
      "14    14  -2.067   5.789           10       1    111       152\n",
      "15    15  -5.204   0.657           10       1    395       421\n",
      "16    16  -4.138   5.082           10       1    386       401\n",
      "17    17  -9.194   2.759           10       1     86       114\n",
      "18    18  -6.512   3.021           10       1    409       426\n",
      "19    19   1.860   9.672           10       1    454       470\n",
      "20    20  -4.094   8.321           10       1    175       202\n",
      "21    21  -3.776  -3.333           10       1    416       453\n",
      "22    22   2.377   2.908           10       1    147       177\n",
      "23    23  -4.303   2.045           10       1    471       499\n",
      "24    24  -3.530  -2.490           10       1    321       346\n",
      "25    25  -5.476   1.437           10      -1    258       287\n",
      "26    26  -4.933   3.337           10      -1    329       361\n",
      "27    27   5.740   2.382           10      -1    209       252\n",
      "28    28  -2.275   5.541           10      -1    416       460\n",
      "29    29  -5.662   7.334           10      -1    305       349\n",
      "30    30  -3.856  -0.370           10      -1    432       458\n",
      "31    31  -1.678   1.954           10      -1    202       236\n",
      "32    32  -1.156   1.161           10      -1    225       252\n",
      "33    33  -4.655   9.797           10      -1    102       123\n",
      "34    34   1.623   0.932           10      -1    260       276\n",
      "35    35   0.129   0.735           10      -1    178       215\n",
      "36    36  -2.640   2.953           10      -1    381       397\n",
      "37    37   0.435   1.469           10      -1      0      1440\n",
      "38    38  -5.066  -2.313           10      -1      0      1440\n",
      "39    39  -2.283  -0.981           10      -1      0      1440\n",
      "40    40  -7.110  -1.862           10      -1      0      1440\n",
      "41    41  -0.785   3.207           10      -1      0      1440\n",
      "42    42   1.188  -2.493           10      -1      0      1440\n",
      "43    43  -1.893  -2.373           10      -1      0      1440\n",
      "44    44  -1.192   1.175           10      -1      0      1440\n",
      "45    45   2.984   1.163           10      -1      0      1440\n",
      "46    46   1.227  -5.581           10      -1      0      1440\n",
      "47    47  -3.793  -2.161           10      -1      0      1440\n",
      "48    48   4.288  -0.297           10      -1      0      1440\n"
     ]
    }
   ],
   "source": [
    "data = pd.read_csv('./pr01.csv')\n",
    "NODE = data['NODE'].iloc\n",
    "XCOORD, YCOORD = data['XCOORD'].iloc, data['YCOORD'].iloc\n",
    "START, DEADLINE = data['START'].iloc, data['DEADLINE'].iloc\n",
    "SERVICETIME, DEMAND = data['SERVICETIME'].iloc, data['DEMAND'].iloc\n",
    "print(data)"
   ]
  },
  {
   "cell_type": "code",
   "execution_count": 3,
   "metadata": {},
   "outputs": [],
   "source": [
    "vehicle_num = 3\n",
    "vehicle_capacity = 6\n",
    "customer_num = int(NODE[-1]/2)\n",
    "max_duration = 480 # The route duration limit\n",
    "max_ride_time = 90 # The maximum user ride time\n",
    "end_system_time = 1440"
   ]
  },
  {
   "cell_type": "code",
   "execution_count": 4,
   "metadata": {},
   "outputs": [],
   "source": [
    "def Dist(i, j):\n",
    "    dist = np.sqrt((XCOORD[i]-XCOORD[j])**2 + (YCOORD[i]-YCOORD[j])**2)\n",
    "    dist = round(dist, 2)\n",
    "    return dist\n",
    "\n",
    "def TotalDist(route):\n",
    "    total_dist = 0\n",
    "    for node_idx in range(len(route)-1):\n",
    "        i, j = route[node_idx], route[node_idx+1]\n",
    "        dist = Dist(i,j)\n",
    "        total_dist += dist\n",
    "    total_dist = round(total_dist, 2)\n",
    "    return total_dist"
   ]
  },
  {
   "cell_type": "code",
   "execution_count": 5,
   "metadata": {},
   "outputs": [],
   "source": [
    "def IsCapacityReasonable(route):\n",
    "    on_board = 0\n",
    "    for node in route[1:-1]:\n",
    "        if node <= customer_num:\n",
    "            on_board += 1\n",
    "        else:\n",
    "            on_board -= 1\n",
    "        if on_board > vehicle_capacity:\n",
    "            return False\n",
    "    return True\n",
    "\n",
    "def IsTimeReasonable(route, begin_j=0):\n",
    "    for node in range(len(route)-1):\n",
    "        begin_i = begin_j\n",
    "        i, j = route[node], route[node+1]\n",
    "        arrive_time = begin_i+SERVICETIME[i]+Dist(i,j)\n",
    "        if (arrive_time > DEADLINE[j]):\n",
    "            return False\n",
    "        begin_j = max(START[j], arrive_time)\n",
    "    return True"
   ]
  },
  {
   "cell_type": "code",
   "execution_count": 6,
   "metadata": {},
   "outputs": [],
   "source": [
    "def BeginTime(route):\n",
    "    begin_time = 0\n",
    "    for node in route:\n",
    "        if (START[node] == 0) and (DEADLINE[node] == end_system_time):\n",
    "            continue\n",
    "        else:\n",
    "            node_idx = route.index(node)\n",
    "            constrain_time = DEADLINE[node]\n",
    "            end_i = constrain_time + SERVICETIME[node]\n",
    "            for idx in range(node_idx, 0, -1):\n",
    "                end_j = end_i\n",
    "                i, j = route[idx-1], route[idx]\n",
    "                end_i = end_j-SERVICETIME[j]-Dist(i,j)\n",
    "            end_i = round(end_i, 2)\n",
    "            reasonable = IsTimeReasonable(route[:node_idx+1], end_i)\n",
    "            if reasonable == False:\n",
    "                break\n",
    "        begin_time = end_i\n",
    "    return begin_time\n",
    "\n",
    "def EndTime(route):\n",
    "    begin_j = BeginTime(route)\n",
    "    for node in range(len(route)-1):\n",
    "        begin_i = begin_j\n",
    "        i, j = route[node], route[node+1]\n",
    "        arrive_time = begin_i+SERVICETIME[i]+Dist(i,j)\n",
    "        begin_j = max(START[j], arrive_time)\n",
    "    end_time = round(begin_j, 2)\n",
    "    return end_time\n",
    "\n",
    "def TotalDuration(route):\n",
    "    total_duration = round(EndTime(route) - BeginTime(route), 2)\n",
    "    return total_duration\n",
    "\n",
    "def AriveTimeRecord(route):\n",
    "    begin_record = []\n",
    "    begin_j = BeginTime(route)\n",
    "    for node in range(len(route)-1):\n",
    "        begin_i = begin_j\n",
    "        i, j = route[node], route[node+1]\n",
    "        arrive_time = begin_i+SERVICETIME[i]+Dist(i,j)\n",
    "        begin_j = max(START[j], arrive_time)\n",
    "        begin_record.append(round(begin_j, 2))\n",
    "    return begin_record"
   ]
  },
  {
   "cell_type": "code",
   "execution_count": 7,
   "metadata": {},
   "outputs": [],
   "source": [
    "def IsRideTimeReasonable(route, pick_node_idx, deliver_node_idx):\n",
    "    record = AriveTimeRecord(route)\n",
    "    ride_time = record[deliver_node_idx] - record[pick_node_idx]\n",
    "    if ride_time > max_ride_time:\n",
    "        return False\n",
    "    else:\n",
    "        return True"
   ]
  },
  {
   "cell_type": "code",
   "execution_count": 8,
   "metadata": {},
   "outputs": [],
   "source": [
    "def RouteCost(route):\n",
    "    cost = TotalDist(route)\n",
    "    return cost"
   ]
  },
  {
   "cell_type": "code",
   "execution_count": 9,
   "metadata": {},
   "outputs": [],
   "source": [
    "def ComputeRegret(rqst, rt):\n",
    "    origin_cost = RouteCost(rt)\n",
    "    pick_node, deliver_node = rqst, rqst+customer_num\n",
    "    regret_value = 9999\n",
    "    best_new_rt = rt\n",
    "    for i in range(1, len(rt)):\n",
    "        for j in range(i, len(rt)):\n",
    "            new_rt = rt[:i] + [pick_node] + rt[i:j] + [deliver_node] + rt[j:]\n",
    "            pick_idx, deliver_idx = new_rt.index(pick_node), new_rt.index(deliver_node)\n",
    "            if (IsCapacityReasonable(new_rt)==False) \\\n",
    "                or (IsTimeReasonable(new_rt, BeginTime(new_rt))==False) \\\n",
    "                or (IsRideTimeReasonable(new_rt, pick_idx, deliver_idx)==False) \\\n",
    "                or (TotalDuration(new_rt) > max_duration):\n",
    "                continue\n",
    "            new_cost = RouteCost(new_rt)\n",
    "            regret = new_cost - origin_cost\n",
    "            if regret < regret_value:\n",
    "                regret_value = regret\n",
    "                best_new_rt = new_rt\n",
    "    regret_value = round(regret_value, 2)\n",
    "    return regret_value, best_new_rt"
   ]
  },
  {
   "cell_type": "code",
   "execution_count": 10,
   "metadata": {},
   "outputs": [
    {
     "name": "stdout",
     "output_type": "stream",
     "text": [
      "[[0, 17, 41, 0], [0, 14, 38, 0], [0, 22, 46, 0]]\n"
     ]
    }
   ],
   "source": [
    "initial = [[0] for _ in range(vehicle_num)]\n",
    "earlier_node = []\n",
    "for customer in range(1, customer_num+1):\n",
    "    if DEADLINE[customer] != end_system_time:\n",
    "        earlier_node.append([NODE[customer], START[customer]])\n",
    "earlier_node.sort(key=lambda x: x[1])\n",
    "add_idx = 0 # k\n",
    "for i in range(vehicle_num):\n",
    "    initial[i].append(earlier_node[add_idx][0])\n",
    "    initial[i].append(earlier_node[add_idx][0] + customer_num)\n",
    "    initial[i].append(0)\n",
    "    while True:\n",
    "        pick_node_id = earlier_node[add_idx][0] # point k\n",
    "        next_pick_node_id = earlier_node[add_idx+1][0] # point k+1\n",
    "        deliver_node_id = pick_node_id + customer_num\n",
    "        add_idx += 1\n",
    "        # verified LDT_k + TT_D(k),P(k+1) <= EPT(k+1)\n",
    "        LDT = DEADLINE[deliver_node_id]\n",
    "        TT  = Dist(deliver_node_id, next_pick_node_id)\n",
    "        EPT = START[next_pick_node_id]\n",
    "        if LDT + TT > EPT:\n",
    "            break\n",
    "print(initial)"
   ]
  },
  {
   "cell_type": "code",
   "execution_count": 11,
   "metadata": {},
   "outputs": [],
   "source": [
    "unselected = [i for i in range(1,customer_num+1)]\n",
    "for route in initial:\n",
    "    for node in route:\n",
    "        if node in unselected:\n",
    "            unselected.remove(node)\n",
    "\n",
    "while unselected:\n",
    "    final_route = initial\n",
    "    incremental_cost_matrix = np.zeros((len(unselected), vehicle_num))\n",
    "    route_matrix = np.empty((len(unselected), vehicle_num), dtype=object)\n",
    "    for request_idx, request in enumerate(unselected):\n",
    "        for route_idx, route in enumerate(final_route):\n",
    "            regret_value, inserted_route = ComputeRegret(request, route)\n",
    "            incremental_cost_matrix[request_idx, route_idx] = regret_value\n",
    "            route_matrix[request_idx, route_idx] = inserted_route\n",
    "    min_value = incremental_cost_matrix.min(axis=1).reshape(-1, 1)\n",
    "    incremental_cost_matrix = incremental_cost_matrix - min_value\n",
    "    sum_matrix = incremental_cost_matrix.sum(axis=1)\n",
    "    best_insert_row_idx = np.argmax(sum_matrix)\n",
    "    best_insert_column_idx = np.argmin(incremental_cost_matrix[best_insert_row_idx])\n",
    "    final_route[best_insert_column_idx] = route_matrix[best_insert_row_idx][best_insert_column_idx]\n",
    "    unselected.remove(unselected[best_insert_row_idx])"
   ]
  },
  {
   "cell_type": "code",
   "execution_count": 12,
   "metadata": {},
   "outputs": [
    {
     "name": "stdout",
     "output_type": "stream",
     "text": [
      "Route 0: [0, 9, 17, 8, 33, 20, 1, 41, 44, 32, 2, 25, 26, 13, 4, 37, 28, 19, 23, 47, 43, 0]\n",
      "Route 1: [0, 14, 5, 29, 16, 18, 40, 38, 21, 42, 45, 0]\n",
      "Route 2: [0, 7, 22, 11, 3, 46, 35, 31, 27, 10, 34, 24, 12, 48, 6, 36, 15, 30, 39, 0]\n",
      "Total Distance: 195.89\n",
      "Total Duration: 1098.19\n"
     ]
    }
   ],
   "source": [
    "total_cost = 0\n",
    "total_duration = 0\n",
    "for idx, route in enumerate(final_route):\n",
    "    total_cost += RouteCost(route)\n",
    "    total_duration += TotalDuration(route)\n",
    "    print(f\"Route {idx}: {route}\")\n",
    "print(\"Total Distance:\", round(total_cost, 2))\n",
    "print(\"Total Duration:\", round(total_duration, 2))"
   ]
  }
 ],
 "metadata": {
  "kernelspec": {
   "display_name": "Python 3",
   "language": "python",
   "name": "python3"
  },
  "language_info": {
   "codemirror_mode": {
    "name": "ipython",
    "version": 3
   },
   "file_extension": ".py",
   "mimetype": "text/x-python",
   "name": "python",
   "nbconvert_exporter": "python",
   "pygments_lexer": "ipython3",
   "version": "3.11.4"
  }
 },
 "nbformat": 4,
 "nbformat_minor": 2
}
